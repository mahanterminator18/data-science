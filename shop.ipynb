{
 "cells": [
  {
   "cell_type": "code",
   "execution_count": 16,
   "metadata": {},
   "outputs": [],
   "source": [
    "import pandas as pd\n",
    "file_path = 'onlineshop.csv'\n",
    "data = pd.read_csv(file_path)\n"
   ]
  },
  {
   "cell_type": "code",
   "execution_count": 17,
   "metadata": {},
   "outputs": [
    {
     "name": "stdout",
     "output_type": "stream",
     "text": [
      "5 سطر اول داده‌ها:\n"
     ]
    },
    {
     "data": {
      "text/html": [
       "<div>\n",
       "<style scoped>\n",
       "    .dataframe tbody tr th:only-of-type {\n",
       "        vertical-align: middle;\n",
       "    }\n",
       "\n",
       "    .dataframe tbody tr th {\n",
       "        vertical-align: top;\n",
       "    }\n",
       "\n",
       "    .dataframe thead th {\n",
       "        text-align: right;\n",
       "    }\n",
       "</style>\n",
       "<table border=\"1\" class=\"dataframe\">\n",
       "  <thead>\n",
       "    <tr style=\"text-align: right;\">\n",
       "      <th></th>\n",
       "      <th>InvoiceNo</th>\n",
       "      <th>StockCode</th>\n",
       "      <th>Description</th>\n",
       "      <th>Quantity</th>\n",
       "      <th>InvoiceDate</th>\n",
       "      <th>UnitPrice</th>\n",
       "      <th>CustomerID</th>\n",
       "      <th>Country</th>\n",
       "    </tr>\n",
       "  </thead>\n",
       "  <tbody>\n",
       "    <tr>\n",
       "      <th>0</th>\n",
       "      <td>536365</td>\n",
       "      <td>85123A</td>\n",
       "      <td>WHITE HANGING HEART T-LIGHT HOLDER</td>\n",
       "      <td>6.0</td>\n",
       "      <td>12/01/10 8:26</td>\n",
       "      <td>2.55</td>\n",
       "      <td>17850.0</td>\n",
       "      <td>United Kingdom</td>\n",
       "    </tr>\n",
       "    <tr>\n",
       "      <th>1</th>\n",
       "      <td>536365</td>\n",
       "      <td>71053</td>\n",
       "      <td>WHITE METAL LANTERN</td>\n",
       "      <td>6.0</td>\n",
       "      <td>12/01/10 8:26</td>\n",
       "      <td>3.39</td>\n",
       "      <td>17850.0</td>\n",
       "      <td>United Kingdom</td>\n",
       "    </tr>\n",
       "    <tr>\n",
       "      <th>2</th>\n",
       "      <td>536365</td>\n",
       "      <td>84406B</td>\n",
       "      <td>CREAM CUPID HEARTS COAT HANGER</td>\n",
       "      <td>8.0</td>\n",
       "      <td>12/01/10 8:26</td>\n",
       "      <td>2.75</td>\n",
       "      <td>17850.0</td>\n",
       "      <td>United Kingdom</td>\n",
       "    </tr>\n",
       "    <tr>\n",
       "      <th>3</th>\n",
       "      <td>536365</td>\n",
       "      <td>84029G</td>\n",
       "      <td>KNITTED UNION FLAG HOT WATER BOTTLE</td>\n",
       "      <td>6.0</td>\n",
       "      <td>12/01/10 8:26</td>\n",
       "      <td>3.39</td>\n",
       "      <td>17850.0</td>\n",
       "      <td>United Kingdom</td>\n",
       "    </tr>\n",
       "    <tr>\n",
       "      <th>4</th>\n",
       "      <td>536365</td>\n",
       "      <td>84029E</td>\n",
       "      <td>RED WOOLLY HOTTIE WHITE HEART.</td>\n",
       "      <td>6.0</td>\n",
       "      <td>12/01/10 8:26</td>\n",
       "      <td>3.39</td>\n",
       "      <td>17850.0</td>\n",
       "      <td>United Kingdom</td>\n",
       "    </tr>\n",
       "  </tbody>\n",
       "</table>\n",
       "</div>"
      ],
      "text/plain": [
       "  InvoiceNo StockCode                          Description  Quantity  \\\n",
       "0    536365    85123A   WHITE HANGING HEART T-LIGHT HOLDER       6.0   \n",
       "1    536365     71053                  WHITE METAL LANTERN       6.0   \n",
       "2    536365    84406B       CREAM CUPID HEARTS COAT HANGER       8.0   \n",
       "3    536365    84029G  KNITTED UNION FLAG HOT WATER BOTTLE       6.0   \n",
       "4    536365    84029E       RED WOOLLY HOTTIE WHITE HEART.       6.0   \n",
       "\n",
       "     InvoiceDate  UnitPrice  CustomerID         Country  \n",
       "0  12/01/10 8:26       2.55     17850.0  United Kingdom  \n",
       "1  12/01/10 8:26       3.39     17850.0  United Kingdom  \n",
       "2  12/01/10 8:26       2.75     17850.0  United Kingdom  \n",
       "3  12/01/10 8:26       3.39     17850.0  United Kingdom  \n",
       "4  12/01/10 8:26       3.39     17850.0  United Kingdom  "
      ]
     },
     "execution_count": 17,
     "metadata": {},
     "output_type": "execute_result"
    }
   ],
   "source": [
    "print(\"5 سطر اول داده‌ها:\")\n",
    "data.head()"
   ]
  },
  {
   "cell_type": "code",
   "execution_count": 18,
   "metadata": {},
   "outputs": [
    {
     "name": "stdout",
     "output_type": "stream",
     "text": [
      "\n",
      "5 سطر آخر داده‌ها:\n"
     ]
    },
    {
     "data": {
      "text/html": [
       "<div>\n",
       "<style scoped>\n",
       "    .dataframe tbody tr th:only-of-type {\n",
       "        vertical-align: middle;\n",
       "    }\n",
       "\n",
       "    .dataframe tbody tr th {\n",
       "        vertical-align: top;\n",
       "    }\n",
       "\n",
       "    .dataframe thead th {\n",
       "        text-align: right;\n",
       "    }\n",
       "</style>\n",
       "<table border=\"1\" class=\"dataframe\">\n",
       "  <thead>\n",
       "    <tr style=\"text-align: right;\">\n",
       "      <th></th>\n",
       "      <th>InvoiceNo</th>\n",
       "      <th>StockCode</th>\n",
       "      <th>Description</th>\n",
       "      <th>Quantity</th>\n",
       "      <th>InvoiceDate</th>\n",
       "      <th>UnitPrice</th>\n",
       "      <th>CustomerID</th>\n",
       "      <th>Country</th>\n",
       "    </tr>\n",
       "  </thead>\n",
       "  <tbody>\n",
       "    <tr>\n",
       "      <th>295745</th>\n",
       "      <td>562840</td>\n",
       "      <td>20713</td>\n",
       "      <td>JUMBO BAG OWLS</td>\n",
       "      <td>2.0</td>\n",
       "      <td>08/09/11 16:27</td>\n",
       "      <td>2.08</td>\n",
       "      <td>14527.0</td>\n",
       "      <td>United Kingdom</td>\n",
       "    </tr>\n",
       "    <tr>\n",
       "      <th>295746</th>\n",
       "      <td>562840</td>\n",
       "      <td>85099B</td>\n",
       "      <td>JUMBO BAG RED RETROSPOT</td>\n",
       "      <td>2.0</td>\n",
       "      <td>08/09/11 16:27</td>\n",
       "      <td>2.08</td>\n",
       "      <td>14527.0</td>\n",
       "      <td>United Kingdom</td>\n",
       "    </tr>\n",
       "    <tr>\n",
       "      <th>295747</th>\n",
       "      <td>562840</td>\n",
       "      <td>23199</td>\n",
       "      <td>JUMBO BAG APPLES</td>\n",
       "      <td>4.0</td>\n",
       "      <td>08/09/11 16:27</td>\n",
       "      <td>2.08</td>\n",
       "      <td>14527.0</td>\n",
       "      <td>United Kingdom</td>\n",
       "    </tr>\n",
       "    <tr>\n",
       "      <th>295748</th>\n",
       "      <td>562840</td>\n",
       "      <td>23201</td>\n",
       "      <td>JUMBO BAG ALPHABET</td>\n",
       "      <td>6.0</td>\n",
       "      <td>08/09/11 16:27</td>\n",
       "      <td>2.08</td>\n",
       "      <td>14527.0</td>\n",
       "      <td>United Kingdom</td>\n",
       "    </tr>\n",
       "    <tr>\n",
       "      <th>295749</th>\n",
       "      <td>562840</td>\n",
       "      <td>23200</td>\n",
       "      <td>JUMBO BAG</td>\n",
       "      <td>NaN</td>\n",
       "      <td>NaN</td>\n",
       "      <td>NaN</td>\n",
       "      <td>NaN</td>\n",
       "      <td>NaN</td>\n",
       "    </tr>\n",
       "  </tbody>\n",
       "</table>\n",
       "</div>"
      ],
      "text/plain": [
       "       InvoiceNo StockCode              Description  Quantity     InvoiceDate  \\\n",
       "295745    562840     20713           JUMBO BAG OWLS       2.0  08/09/11 16:27   \n",
       "295746    562840    85099B  JUMBO BAG RED RETROSPOT       2.0  08/09/11 16:27   \n",
       "295747    562840     23199         JUMBO BAG APPLES       4.0  08/09/11 16:27   \n",
       "295748    562840     23201       JUMBO BAG ALPHABET       6.0  08/09/11 16:27   \n",
       "295749    562840     23200                JUMBO BAG       NaN             NaN   \n",
       "\n",
       "        UnitPrice  CustomerID         Country  \n",
       "295745       2.08     14527.0  United Kingdom  \n",
       "295746       2.08     14527.0  United Kingdom  \n",
       "295747       2.08     14527.0  United Kingdom  \n",
       "295748       2.08     14527.0  United Kingdom  \n",
       "295749        NaN         NaN             NaN  "
      ]
     },
     "execution_count": 18,
     "metadata": {},
     "output_type": "execute_result"
    }
   ],
   "source": [
    "print(\"\\n5 سطر آخر داده‌ها:\")\n",
    "data.tail()\n"
   ]
  },
  {
   "cell_type": "code",
   "execution_count": 19,
   "metadata": {},
   "outputs": [
    {
     "name": "stdout",
     "output_type": "stream",
     "text": [
      "\n",
      "ابعاد دیتافریم:\n",
      "(295750, 8)\n"
     ]
    }
   ],
   "source": [
    "print(\"\\nابعاد دیتافریم:\")\n",
    "print(data.shape)\n"
   ]
  },
  {
   "cell_type": "code",
   "execution_count": 20,
   "metadata": {},
   "outputs": [
    {
     "name": "stdout",
     "output_type": "stream",
     "text": [
      "\n",
      "اطلاعات دیتافریم:\n",
      "<class 'pandas.core.frame.DataFrame'>\n",
      "RangeIndex: 295750 entries, 0 to 295749\n",
      "Data columns (total 8 columns):\n",
      " #   Column       Non-Null Count   Dtype  \n",
      "---  ------       --------------   -----  \n",
      " 0   InvoiceNo    295750 non-null  object \n",
      " 1   StockCode    295750 non-null  object \n",
      " 2   Description  294649 non-null  object \n",
      " 3   Quantity     295749 non-null  float64\n",
      " 4   InvoiceDate  295749 non-null  object \n",
      " 5   UnitPrice    295749 non-null  float64\n",
      " 6   CustomerID   213009 non-null  float64\n",
      " 7   Country      295749 non-null  object \n",
      "dtypes: float64(3), object(5)\n",
      "memory usage: 18.1+ MB\n"
     ]
    }
   ],
   "source": [
    "print(\"\\nاطلاعات دیتافریم:\")\n",
    "data.info()\n"
   ]
  },
  {
   "cell_type": "code",
   "execution_count": 21,
   "metadata": {},
   "outputs": [
    {
     "name": "stdout",
     "output_type": "stream",
     "text": [
      "\n",
      "مقدار های از دست رفته در هر ستون:\n",
      "InvoiceNo          0\n",
      "StockCode          0\n",
      "Description     1101\n",
      "Quantity           1\n",
      "InvoiceDate        1\n",
      "UnitPrice          1\n",
      "CustomerID     82741\n",
      "Country            1\n",
      "dtype: int64\n"
     ]
    }
   ],
   "source": [
    "print(\"\\nمقدار های از دست رفته در هر ستون:\")\n",
    "print(data.isnull().sum())\n",
    "\n"
   ]
  },
  {
   "cell_type": "code",
   "execution_count": 22,
   "metadata": {},
   "outputs": [],
   "source": [
    "data['Description'] = data['Description'].fillna('توضیحی موجود نیست')\n",
    "\n",
    "data['Quantity'] = data['Quantity'].fillna(0)\n",
    "\n",
    "data['UnitPrice'] = data['UnitPrice'].fillna(0)\n",
    "\n",
    "data['InvoiceDate'] = data['InvoiceDate'].fillna('نامشخص')\n",
    "\n",
    "data['CustomerID'] = data['CustomerID'].fillna(0)\n",
    "\n",
    "data = data.dropna(subset=['Country'])\n",
    "\n"
   ]
  },
  {
   "cell_type": "code",
   "execution_count": 23,
   "metadata": {},
   "outputs": [
    {
     "name": "stdout",
     "output_type": "stream",
     "text": [
      "\n",
      "مقادیر از دست رفته پس از پردازش:\n",
      "InvoiceNo      0\n",
      "StockCode      0\n",
      "Description    0\n",
      "Quantity       0\n",
      "InvoiceDate    0\n",
      "UnitPrice      0\n",
      "CustomerID     0\n",
      "Country        0\n",
      "dtype: int64\n"
     ]
    }
   ],
   "source": [
    "print(\"\\nمقادیر از دست رفته پس از پردازش:\")\n",
    "print(data.isnull().sum())\n"
   ]
  },
  {
   "cell_type": "code",
   "execution_count": 24,
   "metadata": {},
   "outputs": [
    {
     "name": "stdout",
     "output_type": "stream",
     "text": [
      "دیتافریم با ستون درآمد:\n"
     ]
    },
    {
     "data": {
      "text/html": [
       "<div>\n",
       "<style scoped>\n",
       "    .dataframe tbody tr th:only-of-type {\n",
       "        vertical-align: middle;\n",
       "    }\n",
       "\n",
       "    .dataframe tbody tr th {\n",
       "        vertical-align: top;\n",
       "    }\n",
       "\n",
       "    .dataframe thead th {\n",
       "        text-align: right;\n",
       "    }\n",
       "</style>\n",
       "<table border=\"1\" class=\"dataframe\">\n",
       "  <thead>\n",
       "    <tr style=\"text-align: right;\">\n",
       "      <th></th>\n",
       "      <th>InvoiceNo</th>\n",
       "      <th>StockCode</th>\n",
       "      <th>Description</th>\n",
       "      <th>Quantity</th>\n",
       "      <th>InvoiceDate</th>\n",
       "      <th>UnitPrice</th>\n",
       "      <th>CustomerID</th>\n",
       "      <th>Country</th>\n",
       "      <th>درآمد</th>\n",
       "    </tr>\n",
       "  </thead>\n",
       "  <tbody>\n",
       "    <tr>\n",
       "      <th>0</th>\n",
       "      <td>536365</td>\n",
       "      <td>85123A</td>\n",
       "      <td>WHITE HANGING HEART T-LIGHT HOLDER</td>\n",
       "      <td>6.0</td>\n",
       "      <td>12/01/10 8:26</td>\n",
       "      <td>2.55</td>\n",
       "      <td>17850.0</td>\n",
       "      <td>United Kingdom</td>\n",
       "      <td>15.30</td>\n",
       "    </tr>\n",
       "    <tr>\n",
       "      <th>1</th>\n",
       "      <td>536365</td>\n",
       "      <td>71053</td>\n",
       "      <td>WHITE METAL LANTERN</td>\n",
       "      <td>6.0</td>\n",
       "      <td>12/01/10 8:26</td>\n",
       "      <td>3.39</td>\n",
       "      <td>17850.0</td>\n",
       "      <td>United Kingdom</td>\n",
       "      <td>20.34</td>\n",
       "    </tr>\n",
       "    <tr>\n",
       "      <th>2</th>\n",
       "      <td>536365</td>\n",
       "      <td>84406B</td>\n",
       "      <td>CREAM CUPID HEARTS COAT HANGER</td>\n",
       "      <td>8.0</td>\n",
       "      <td>12/01/10 8:26</td>\n",
       "      <td>2.75</td>\n",
       "      <td>17850.0</td>\n",
       "      <td>United Kingdom</td>\n",
       "      <td>22.00</td>\n",
       "    </tr>\n",
       "    <tr>\n",
       "      <th>3</th>\n",
       "      <td>536365</td>\n",
       "      <td>84029G</td>\n",
       "      <td>KNITTED UNION FLAG HOT WATER BOTTLE</td>\n",
       "      <td>6.0</td>\n",
       "      <td>12/01/10 8:26</td>\n",
       "      <td>3.39</td>\n",
       "      <td>17850.0</td>\n",
       "      <td>United Kingdom</td>\n",
       "      <td>20.34</td>\n",
       "    </tr>\n",
       "    <tr>\n",
       "      <th>4</th>\n",
       "      <td>536365</td>\n",
       "      <td>84029E</td>\n",
       "      <td>RED WOOLLY HOTTIE WHITE HEART.</td>\n",
       "      <td>6.0</td>\n",
       "      <td>12/01/10 8:26</td>\n",
       "      <td>3.39</td>\n",
       "      <td>17850.0</td>\n",
       "      <td>United Kingdom</td>\n",
       "      <td>20.34</td>\n",
       "    </tr>\n",
       "  </tbody>\n",
       "</table>\n",
       "</div>"
      ],
      "text/plain": [
       "  InvoiceNo StockCode                          Description  Quantity  \\\n",
       "0    536365    85123A   WHITE HANGING HEART T-LIGHT HOLDER       6.0   \n",
       "1    536365     71053                  WHITE METAL LANTERN       6.0   \n",
       "2    536365    84406B       CREAM CUPID HEARTS COAT HANGER       8.0   \n",
       "3    536365    84029G  KNITTED UNION FLAG HOT WATER BOTTLE       6.0   \n",
       "4    536365    84029E       RED WOOLLY HOTTIE WHITE HEART.       6.0   \n",
       "\n",
       "     InvoiceDate  UnitPrice  CustomerID         Country  درآمد  \n",
       "0  12/01/10 8:26       2.55     17850.0  United Kingdom  15.30  \n",
       "1  12/01/10 8:26       3.39     17850.0  United Kingdom  20.34  \n",
       "2  12/01/10 8:26       2.75     17850.0  United Kingdom  22.00  \n",
       "3  12/01/10 8:26       3.39     17850.0  United Kingdom  20.34  \n",
       "4  12/01/10 8:26       3.39     17850.0  United Kingdom  20.34  "
      ]
     },
     "execution_count": 24,
     "metadata": {},
     "output_type": "execute_result"
    }
   ],
   "source": [
    "data['درآمد'] = data['Quantity'] * data['UnitPrice']\n",
    "\n",
    "print(\"دیتافریم با ستون درآمد:\")\n",
    "data.head()\n"
   ]
  },
  {
   "cell_type": "code",
   "execution_count": 25,
   "metadata": {},
   "outputs": [
    {
     "name": "stdout",
     "output_type": "stream",
     "text": [
      "\n",
      "داده‌های گروه‌بندی شده بر اساس کد محصول:\n"
     ]
    },
    {
     "data": {
      "text/html": [
       "<div>\n",
       "<style scoped>\n",
       "    .dataframe tbody tr th:only-of-type {\n",
       "        vertical-align: middle;\n",
       "    }\n",
       "\n",
       "    .dataframe tbody tr th {\n",
       "        vertical-align: top;\n",
       "    }\n",
       "\n",
       "    .dataframe thead th {\n",
       "        text-align: right;\n",
       "    }\n",
       "</style>\n",
       "<table border=\"1\" class=\"dataframe\">\n",
       "  <thead>\n",
       "    <tr style=\"text-align: right;\">\n",
       "      <th></th>\n",
       "      <th>StockCode</th>\n",
       "      <th>Quantity</th>\n",
       "      <th>درآمد</th>\n",
       "    </tr>\n",
       "  </thead>\n",
       "  <tbody>\n",
       "    <tr>\n",
       "      <th>0</th>\n",
       "      <td>10002</td>\n",
       "      <td>1037.0</td>\n",
       "      <td>759.89</td>\n",
       "    </tr>\n",
       "    <tr>\n",
       "      <th>1</th>\n",
       "      <td>10080</td>\n",
       "      <td>304.0</td>\n",
       "      <td>53.18</td>\n",
       "    </tr>\n",
       "    <tr>\n",
       "      <th>2</th>\n",
       "      <td>10120</td>\n",
       "      <td>88.0</td>\n",
       "      <td>18.48</td>\n",
       "    </tr>\n",
       "    <tr>\n",
       "      <th>3</th>\n",
       "      <td>10123C</td>\n",
       "      <td>-13.0</td>\n",
       "      <td>3.25</td>\n",
       "    </tr>\n",
       "    <tr>\n",
       "      <th>4</th>\n",
       "      <td>10123G</td>\n",
       "      <td>-38.0</td>\n",
       "      <td>0.00</td>\n",
       "    </tr>\n",
       "  </tbody>\n",
       "</table>\n",
       "</div>"
      ],
      "text/plain": [
       "  StockCode  Quantity   درآمد\n",
       "0     10002    1037.0  759.89\n",
       "1     10080     304.0   53.18\n",
       "2     10120      88.0   18.48\n",
       "3    10123C     -13.0    3.25\n",
       "4    10123G     -38.0    0.00"
      ]
     },
     "execution_count": 25,
     "metadata": {},
     "output_type": "execute_result"
    }
   ],
   "source": [
    "grouped_data = data.groupby('StockCode').agg({'Quantity': 'sum', 'درآمد': 'sum'}).reset_index()\n",
    "\n",
    "print(\"\\nداده‌های گروه‌بندی شده بر اساس کد محصول:\")\n",
    "grouped_data.head()\n",
    "\n"
   ]
  },
  {
   "cell_type": "code",
   "execution_count": 26,
   "metadata": {},
   "outputs": [
    {
     "name": "stdout",
     "output_type": "stream",
     "text": [
      "\n",
      "داده‌های مرتب‌شده بر اساس تعداد:\n"
     ]
    },
    {
     "data": {
      "text/html": [
       "<div>\n",
       "<style scoped>\n",
       "    .dataframe tbody tr th:only-of-type {\n",
       "        vertical-align: middle;\n",
       "    }\n",
       "\n",
       "    .dataframe tbody tr th {\n",
       "        vertical-align: top;\n",
       "    }\n",
       "\n",
       "    .dataframe thead th {\n",
       "        text-align: right;\n",
       "    }\n",
       "</style>\n",
       "<table border=\"1\" class=\"dataframe\">\n",
       "  <thead>\n",
       "    <tr style=\"text-align: right;\">\n",
       "      <th></th>\n",
       "      <th>StockCode</th>\n",
       "      <th>Quantity</th>\n",
       "      <th>درآمد</th>\n",
       "    </tr>\n",
       "  </thead>\n",
       "  <tbody>\n",
       "    <tr>\n",
       "      <th>2701</th>\n",
       "      <td>84077</td>\n",
       "      <td>34159.0</td>\n",
       "      <td>8316.41</td>\n",
       "    </tr>\n",
       "    <tr>\n",
       "      <th>3229</th>\n",
       "      <td>85123A</td>\n",
       "      <td>27759.0</td>\n",
       "      <td>65989.08</td>\n",
       "    </tr>\n",
       "    <tr>\n",
       "      <th>3209</th>\n",
       "      <td>85099B</td>\n",
       "      <td>27565.0</td>\n",
       "      <td>53004.53</td>\n",
       "    </tr>\n",
       "    <tr>\n",
       "      <th>450</th>\n",
       "      <td>21212</td>\n",
       "      <td>25256.0</td>\n",
       "      <td>14605.49</td>\n",
       "    </tr>\n",
       "    <tr>\n",
       "      <th>1143</th>\n",
       "      <td>22197</td>\n",
       "      <td>25090.0</td>\n",
       "      <td>20924.81</td>\n",
       "    </tr>\n",
       "  </tbody>\n",
       "</table>\n",
       "</div>"
      ],
      "text/plain": [
       "     StockCode  Quantity     درآمد\n",
       "2701     84077   34159.0   8316.41\n",
       "3229    85123A   27759.0  65989.08\n",
       "3209    85099B   27565.0  53004.53\n",
       "450      21212   25256.0  14605.49\n",
       "1143     22197   25090.0  20924.81"
      ]
     },
     "execution_count": 26,
     "metadata": {},
     "output_type": "execute_result"
    }
   ],
   "source": [
    "sorted_data = grouped_data.sort_values(by='Quantity', ascending=False)\n",
    "\n",
    "print(\"\\nداده‌های مرتب‌شده بر اساس تعداد:\")\n",
    "sorted_data.head()\n",
    "\n"
   ]
  },
  {
   "cell_type": "code",
   "execution_count": 27,
   "metadata": {},
   "outputs": [
    {
     "name": "stdout",
     "output_type": "stream",
     "text": [
      "\n",
      "5 محصول با بیشترین تعداد فروش:\n"
     ]
    },
    {
     "data": {
      "text/html": [
       "<div>\n",
       "<style scoped>\n",
       "    .dataframe tbody tr th:only-of-type {\n",
       "        vertical-align: middle;\n",
       "    }\n",
       "\n",
       "    .dataframe tbody tr th {\n",
       "        vertical-align: top;\n",
       "    }\n",
       "\n",
       "    .dataframe thead th {\n",
       "        text-align: right;\n",
       "    }\n",
       "</style>\n",
       "<table border=\"1\" class=\"dataframe\">\n",
       "  <thead>\n",
       "    <tr style=\"text-align: right;\">\n",
       "      <th></th>\n",
       "      <th>StockCode</th>\n",
       "      <th>Quantity</th>\n",
       "      <th>درآمد</th>\n",
       "    </tr>\n",
       "  </thead>\n",
       "  <tbody>\n",
       "    <tr>\n",
       "      <th>2701</th>\n",
       "      <td>84077</td>\n",
       "      <td>34159.0</td>\n",
       "      <td>8316.41</td>\n",
       "    </tr>\n",
       "    <tr>\n",
       "      <th>3229</th>\n",
       "      <td>85123A</td>\n",
       "      <td>27759.0</td>\n",
       "      <td>65989.08</td>\n",
       "    </tr>\n",
       "    <tr>\n",
       "      <th>3209</th>\n",
       "      <td>85099B</td>\n",
       "      <td>27565.0</td>\n",
       "      <td>53004.53</td>\n",
       "    </tr>\n",
       "    <tr>\n",
       "      <th>450</th>\n",
       "      <td>21212</td>\n",
       "      <td>25256.0</td>\n",
       "      <td>14605.49</td>\n",
       "    </tr>\n",
       "    <tr>\n",
       "      <th>1143</th>\n",
       "      <td>22197</td>\n",
       "      <td>25090.0</td>\n",
       "      <td>20924.81</td>\n",
       "    </tr>\n",
       "  </tbody>\n",
       "</table>\n",
       "</div>"
      ],
      "text/plain": [
       "     StockCode  Quantity     درآمد\n",
       "2701     84077   34159.0   8316.41\n",
       "3229    85123A   27759.0  65989.08\n",
       "3209    85099B   27565.0  53004.53\n",
       "450      21212   25256.0  14605.49\n",
       "1143     22197   25090.0  20924.81"
      ]
     },
     "execution_count": 27,
     "metadata": {},
     "output_type": "execute_result"
    }
   ],
   "source": [
    "top_5_products = sorted_data.head(5)\n",
    "\n",
    "print(\"\\n5 محصول با بیشترین تعداد فروش:\")\n",
    "top_5_products\n"
   ]
  },
  {
   "cell_type": "code",
   "execution_count": null,
   "metadata": {},
   "outputs": [],
   "source": []
  }
 ],
 "metadata": {
  "kernelspec": {
   "display_name": "Python 3",
   "language": "python",
   "name": "python3"
  },
  "language_info": {
   "codemirror_mode": {
    "name": "ipython",
    "version": 3
   },
   "file_extension": ".py",
   "mimetype": "text/x-python",
   "name": "python",
   "nbconvert_exporter": "python",
   "pygments_lexer": "ipython3",
   "version": "3.13.0"
  }
 },
 "nbformat": 4,
 "nbformat_minor": 2
}
